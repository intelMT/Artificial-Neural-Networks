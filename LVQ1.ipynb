{
 "cells": [
  {
   "cell_type": "code",
   "execution_count": 4,
   "id": "recreational-listening",
   "metadata": {},
   "outputs": [],
   "source": [
    "import numpy as np"
   ]
  },
  {
   "cell_type": "code",
   "execution_count": 11,
   "id": "neural-official",
   "metadata": {},
   "outputs": [],
   "source": [
    "# dekoratif çizgi\n",
    "dash_line = \"\\n------------------------------------------------------------\\n\""
   ]
  },
  {
   "cell_type": "code",
   "execution_count": 6,
   "id": "signed-scotland",
   "metadata": {},
   "outputs": [],
   "source": [
    "\n",
    "class LVQ1:\n",
    "    '''LVQ1 : Linear Vector Quantization ile binary sayilarla calisan LVQ1 yapay sinir ağı(YSA) nesnesi oluşturulması\n",
    "    Bu ağ ile \n",
    "    '''\n",
    "    def __init__(self, lr=0.7):\n",
    "        '''\n",
    "        Başlangıç değerlerini ata ve YSA'nın şekil ve sınırlarını belirle\n",
    "        \n",
    "        Parametreler:\n",
    "        -------------\n",
    "\n",
    "        '''\n",
    "        # Verilen ilk agirlik degerlerini oznitelik olarak ata\n",
    "        self.A11 = np.array([3.21, 1.36])\n",
    "        self.A12 = np.array([3.40, 1.20])\n",
    "        self.A2 = np.array([3.75, 1.30])\n",
    "\n",
    "        # Öğrenme katsayısını nesneye nitelik olarak ata \n",
    "        self.lr = lr\n",
    "        # En yakın temsil vektör uzaklığı ve sınıfı hafızada tutmak için\n",
    "        self.minDist = 0\n",
    "        self.winner = 0\n",
    "        \n",
    "    def learn(self, X, y, show=False, predict=False):\n",
    "        '''LVQ1 YSA'nı girdi vektörü X ve y ile eğit\n",
    "            show     : verileri goster\n",
    "            predict  : sadece tahmin yap (test için)\n",
    "        '''\n",
    "        # Uzaklıkları L2 norma gore hesapla\n",
    "        d1 = np.sqrt(sum((X - self.A11)**2));\n",
    "        d2 = np.sqrt(sum((X - self.A12)**2));\n",
    "        d3 = np.sqrt(sum((X - self.A2)**2));\n",
    "        d = [d1, d2, d3]\n",
    "\n",
    "        self.winner = np.argmin(d)\n",
    "        if show:\n",
    "            print(\"Uzaklıklar: \")\n",
    "            print(d)\n",
    "            print(f\"Kazanan: {self.winner}\")\n",
    "        \n",
    "        if np.all([y == 2, self.winner == 2]):\n",
    "            self.A2 = self.A2 + self.lr*(X-self.A2)\n",
    "        if np.all([y == 1, self.winner == 2]):\n",
    "            self.A2 = self.A2 - self.lr*(X-self.A2)\n",
    "            \n",
    "        if np.all([y == 1, self.winner == 1]):\n",
    "            self.A12 = self.A12 + self.lr*(X-self.A12)\n",
    "        if np.all([y == 2, self.winner == 1]):\n",
    "            self.A12 = self.A12 - self.lr*(X-self.A12)\n",
    "            \n",
    "        if np.all([y == 1,self.winner == 0]):\n",
    "            self.A11 = self.A11 + self.lr*(X-self.A11)\n",
    "        if np.all([y == 2, self.winner == 0]):\n",
    "            self.A11 = self.A11 - self.lr*(X-self.A11)\n",
    "        \n",
    "        return None\n",
    "        "
   ]
  },
  {
   "cell_type": "code",
   "execution_count": 7,
   "id": "narrative-moses",
   "metadata": {},
   "outputs": [
    {
     "name": "stdout",
     "output_type": "stream",
     "text": [
      "Veri: [4.  1.3]\n",
      "Ait olunan sınıf:1\n",
      "\n",
      "------------------------------------------------------------\n",
      "\n",
      "Veri: [5.1 1.9]\n",
      "Ait olunan sınıf:2\n",
      "\n",
      "------------------------------------------------------------\n",
      "\n",
      "Veri: [4.6 1.5]\n",
      "Ait olunan sınıf:1\n",
      "\n",
      "------------------------------------------------------------\n",
      "\n",
      "Veri: [6.  2.5]\n",
      "Ait olunan sınıf:2\n",
      "\n",
      "------------------------------------------------------------\n",
      "\n"
     ]
    }
   ],
   "source": [
    "#1. Örnek\n",
    "Model = LVQ1(lr=0.7)\n",
    "veri = np.array([[4.0, 1.3],[5.1, 1.9],[4.6, 1.5],[6.0, 2.5]])\n",
    "Category = np.array([1, 2, 1, 2])\n",
    "\n",
    "iterasyon = 4\n",
    "for i in range(iterasyon):\n",
    "    X = veri[i]\n",
    "    print(f\"Veri: {X}\")\n",
    "    y = Category[i]\n",
    "    print(f\"Ait olunan sınıf:{y}\")\n",
    "    Model.learn(X, y)\n",
    "    print(dash_line)"
   ]
  },
  {
   "cell_type": "code",
   "execution_count": 8,
   "id": "overall-victory",
   "metadata": {},
   "outputs": [
    {
     "data": {
      "text/plain": [
       "array([3.21, 1.36])"
      ]
     },
     "execution_count": 8,
     "metadata": {},
     "output_type": "execute_result"
    }
   ],
   "source": [
    "Model.A11"
   ]
  },
  {
   "cell_type": "code",
   "execution_count": 9,
   "id": "modified-commonwealth",
   "metadata": {},
   "outputs": [
    {
     "data": {
      "text/plain": [
       "array([3.4, 1.2])"
      ]
     },
     "execution_count": 9,
     "metadata": {},
     "output_type": "execute_result"
    }
   ],
   "source": [
    "Model.A12"
   ]
  },
  {
   "cell_type": "code",
   "execution_count": 10,
   "id": "speaking-aerospace",
   "metadata": {},
   "outputs": [
    {
     "data": {
      "text/plain": [
       "array([5.601675, 2.3122  ])"
      ]
     },
     "execution_count": 10,
     "metadata": {},
     "output_type": "execute_result"
    }
   ],
   "source": [
    "Model.A2"
   ]
  },
  {
   "cell_type": "code",
   "execution_count": null,
   "id": "clear-recorder",
   "metadata": {},
   "outputs": [],
   "source": []
  }
 ],
 "metadata": {
  "kernelspec": {
   "display_name": "Python 3",
   "language": "python",
   "name": "python3"
  },
  "language_info": {
   "codemirror_mode": {
    "name": "ipython",
    "version": 3
   },
   "file_extension": ".py",
   "mimetype": "text/x-python",
   "name": "python",
   "nbconvert_exporter": "python",
   "pygments_lexer": "ipython3",
   "version": "3.7.6"
  }
 },
 "nbformat": 4,
 "nbformat_minor": 5
}
