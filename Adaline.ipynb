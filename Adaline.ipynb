{
 "cells": [
  {
   "cell_type": "markdown",
   "metadata": {},
   "source": [
    "### Kod için kaynak: GitHub repository - Very simple ADALINE network by Stephen Sheridan (ITB)\n",
    "\n",
    "https://github.com/stephensheridan/python-adaline/blob/master/python-adaline.py"
   ]
  },
  {
   "cell_type": "code",
   "execution_count": 1,
   "metadata": {},
   "outputs": [],
   "source": [
    "import numpy as np\n",
    "import matplotlib.pyplot as plt\n",
    "%matplotlib inline\n",
    "\n",
    "np.random.seed(37)"
   ]
  },
  {
   "cell_type": "code",
   "execution_count": 2,
   "metadata": {},
   "outputs": [],
   "source": [
    "def basamak_fonksiyonu(x):\n",
    "    if (x > 0):\n",
    "        return 1\n",
    "    else:\n",
    "        return -1;"
   ]
  },
  {
   "cell_type": "code",
   "execution_count": 3,
   "metadata": {},
   "outputs": [],
   "source": [
    "# Mantık VEYA, OR operatörü için çözüm\n",
    "\n",
    "# Girdi değerleri, Sabit 1 değerini bias olarak veriyor (Bias değerini girdi olarak modelleniyor)\n",
    "\n",
    "X = np.array([[-1,-1,1],\n",
    "              [-1, 1,1],\n",
    "              [1, -1,1],\n",
    "              [1, 1, 1]])\n",
    "\n",
    "# Beklenti Değerleri    \n",
    "B = np.array([[-1,1,1,1]]).T"
   ]
  },
  {
   "cell_type": "code",
   "execution_count": 4,
   "metadata": {},
   "outputs": [
    {
     "name": "stdout",
     "output_type": "stream",
     "text": [
      "Eğitim öncesi rastgele ağırlıklar:\n",
      " [[ 0.88899321]\n",
      " [-0.07180365]\n",
      " [-0.61440994]]\n"
     ]
    }
   ],
   "source": [
    "WEIGHTS = 2*np.random.random((3,1)) - 1\n",
    "print (\"Eğitim öncesi rastgele ağırlıklar:\\n\", WEIGHTS)"
   ]
  },
  {
   "cell_type": "code",
   "execution_count": 5,
   "metadata": {},
   "outputs": [
    {
     "data": {
      "text/plain": [
       "0.06759320407924803"
      ]
     },
     "execution_count": 5,
     "metadata": {},
     "output_type": "execute_result"
    }
   ],
   "source": [
    "# Kaynak kodda ortalaması 0 diyor öyle mi?\n",
    "np.mean(WEIGHTS)"
   ]
  },
  {
   "cell_type": "code",
   "execution_count": 6,
   "metadata": {},
   "outputs": [],
   "source": [
    "# Hata değerlerini Python listesine kaydedelim\n",
    "errors = list()"
   ]
  },
  {
   "cell_type": "code",
   "execution_count": 7,
   "metadata": {},
   "outputs": [
    {
     "name": "stdout",
     "output_type": "stream",
     "text": [
      "Eğitim öncesi ağırlıklar:\n",
      " [[ 0.88899321]\n",
      " [-0.07180365]\n",
      " [-0.61440994]]\n",
      "Eğitim sonrası ağırlıklar:\n",
      " [[0.88899321]\n",
      " [2.92819635]\n",
      " [2.38559006]]\n"
     ]
    }
   ],
   "source": [
    "# Adaline Ağını eğitelim\n",
    "\n",
    "OGRENME_KATSAYISI = 0.75\n",
    "print(\"Eğitim öncesi ağırlıklar:\\n\", WEIGHTS)\n",
    "\n",
    "# 10 devir/epok eğitim yapalım\n",
    "for _ in range(10):\n",
    "    \n",
    "    for x, Beklenti in zip(X, B):\n",
    "        \n",
    "        # İleri yayılım ile çıktı hesaplama\n",
    "        NET = x[0]*WEIGHTS[0] + x[1]*WEIGHTS[1] + x[2]*WEIGHTS[2]\n",
    "\n",
    "        # Basamak(aktivasyon) fonksiyonu\n",
    "        Cikti = basamak_fonksiyonu(NET)\n",
    "\n",
    "        # Üretilen HATA değeri nedir?\n",
    "        HATA = Beklenti - Cikti\n",
    "        # Hatayı listeye ekleyelim.\n",
    "        errors.append(HATA)\n",
    "        \n",
    "        # Update the weights based on the delta rule\n",
    "        WEIGHTS[0] = WEIGHTS[0] + OGRENME_KATSAYISI * HATA * x[0]\n",
    "        WEIGHTS[1] = WEIGHTS[1] + OGRENME_KATSAYISI * HATA * x[1]\n",
    "        WEIGHTS[2] = WEIGHTS[2] + OGRENME_KATSAYISI * HATA * x[2]\n",
    "\n",
    "\n",
    "print(\"Eğitim sonrası ağırlıklar:\\n\", WEIGHTS)"
   ]
  },
  {
   "cell_type": "code",
   "execution_count": 8,
   "metadata": {},
   "outputs": [
    {
     "name": "stdout",
     "output_type": "stream",
     "text": [
      "Elde Edilen  -1 Gerçek(Beklenen)  [-1]\n",
      "Elde Edilen  1 Gerçek(Beklenen)  [1]\n",
      "Elde Edilen  1 Gerçek(Beklenen)  [1]\n",
      "Elde Edilen  1 Gerçek(Beklenen)  [1]\n"
     ]
    },
    {
     "data": {
      "image/png": "[encoded data removed]",
      "text/plain": [
       "<Figure size 432x288 with 1 Axes>"
      ]
     },
     "metadata": {},
     "output_type": "display_data"
    }
   ],
   "source": [
    "for input_item, beklenti in zip(X, B):\n",
    "    # Feed this input forward and calculate the ADALINE output\n",
    "    OUTPUT = (input_item[0]*WEIGHTS[0]) + (input_item[1]*WEIGHTS[1]) + (input_item[2]*WEIGHTS[2])\n",
    "\n",
    "    # Run ADALINE_OUTPUT through the step function\n",
    "    ADALINE_OUTPUT = basamak_fonksiyonu(OUTPUT)\n",
    "\n",
    "    print (\"Elde Edilen \", ADALINE_OUTPUT, \"Gerçek(Beklenen) \", beklenti)\n",
    "\n",
    "\n",
    "# Plot the errors to see how we did during training\n",
    "plt.plot(errors, label='Training Errors')\n",
    "plt.legend()\n",
    "plt.title(\"ADALINE Hata, OR operatörü için (2,-2)\")\n",
    "plt.show()"
   ]
  },
  {
   "cell_type": "markdown",
   "metadata": {},
   "source": [
    "### Yukarda görüleceği üzere belli bir süre sonra ADALİNE ağı OR problemini 0 hata ile çözebilecek yeteneğe kavuşmuştur."
   ]
  },
  {
   "cell_type": "code",
   "execution_count": 9,
   "metadata": {},
   "outputs": [],
   "source": [
    "# Bu sefer XOR problemi için veri seti oluşturalım ve ağı tekrar yukardaki gibi eğitelim.\n",
    "X = np.array([[-1,-1, 1],\n",
    "                   [-1, 1, 1],\n",
    "                   [ 1,-1, 1],\n",
    "                   [ 1, 1, 1]])\n",
    "\n",
    "# output dataset - Eğer girdilerin ikisi de -1 veya 1 ise sonuç -1          \n",
    "B = np.array([[-1, 1, 1, -1]]).T"
   ]
  },
  {
   "cell_type": "code",
   "execution_count": 10,
   "metadata": {},
   "outputs": [
    {
     "name": "stdout",
     "output_type": "stream",
     "text": [
      "Eğitim öncesi ağırlıklar:\n",
      " [[0.88899321]\n",
      " [2.92819635]\n",
      " [2.38559006]]\n",
      "Eğitim sonrası ağırlıklar:\n",
      " [[-0.61100679]\n",
      " [-1.57180365]\n",
      " [ 0.88559006]]\n"
     ]
    }
   ],
   "source": [
    "# Adaline Ağını tekrar eğitelim\n",
    "\n",
    "# Yeniden hata listemizi temizleyelim\n",
    "errors = list()\n",
    "OGRENME_KATSAYISI = 0.75\n",
    "\n",
    "print(\"Eğitim öncesi ağırlıklar:\\n\", WEIGHTS)\n",
    "\n",
    "# 10 devir/epok eğitim yapalım\n",
    "for _ in range(10):\n",
    "    \n",
    "    for x, Beklenti in zip(X, B):\n",
    "        \n",
    "        # İleri yayılım ile çıktı hesaplama\n",
    "        NET = x[0]*WEIGHTS[0] + x[1]*WEIGHTS[1] + x[2]*WEIGHTS[2]\n",
    "\n",
    "        # Basamak(aktivasyon) fonksiyonu\n",
    "        Cikti = basamak_fonksiyonu(NET)\n",
    "\n",
    "        # Üretilen HATA değeri nedir?\n",
    "        HATA = Beklenti - Cikti\n",
    "        # Hatayı listeye ekleyelim.\n",
    "        errors.append(HATA)\n",
    "        \n",
    "        # Update the weights based on the delta rule\n",
    "        WEIGHTS[0] = WEIGHTS[0] + OGRENME_KATSAYISI * HATA * x[0]\n",
    "        WEIGHTS[1] = WEIGHTS[1] + OGRENME_KATSAYISI * HATA * x[1]\n",
    "        WEIGHTS[2] = WEIGHTS[2] + OGRENME_KATSAYISI * HATA * x[2]\n",
    "\n",
    "\n",
    "print(\"Eğitim sonrası ağırlıklar:\\n\", WEIGHTS)"
   ]
  },
  {
   "cell_type": "code",
   "execution_count": 11,
   "metadata": {},
   "outputs": [
    {
     "name": "stdout",
     "output_type": "stream",
     "text": [
      "Elde Edilen  1 Gerçek(Beklenen)  [-1]\n",
      "Elde Edilen  -1 Gerçek(Beklenen)  [1]\n",
      "Elde Edilen  1 Gerçek(Beklenen)  [1]\n",
      "Elde Edilen  -1 Gerçek(Beklenen)  [-1]\n"
     ]
    },
    {
     "data": {
      "image/png": "[encoded data removed]",
      "text/plain": [
       "<Figure size 432x288 with 1 Axes>"
      ]
     },
     "metadata": {},
     "output_type": "display_data"
    }
   ],
   "source": [
    "for input_item, beklenti in zip(X, B):\n",
    "    # Feed this input forward and calculate the ADALINE output\n",
    "    OUTPUT = (input_item[0]*WEIGHTS[0]) + (input_item[1]*WEIGHTS[1]) + (input_item[2]*WEIGHTS[2])\n",
    "\n",
    "    # Run ADALINE_OUTPUT through the step function\n",
    "    ADALINE_OUTPUT = basamak_fonksiyonu(OUTPUT)\n",
    "\n",
    "    print (\"Elde Edilen \", ADALINE_OUTPUT, \"Gerçek(Beklenen) \", beklenti)\n",
    "\n",
    "\n",
    "# Plot the errors to see how we did during training\n",
    "plt.plot(errors, label='Training Errors')\n",
    "plt.legend()\n",
    "plt.title(\"ADALINE Hata, XOR için (2,-2)\")\n",
    "plt.show()"
   ]
  },
  {
   "cell_type": "markdown",
   "metadata": {},
   "source": [
    "### Yukarıda da görüleceği üzere ADALİNE ağı XOR problemini hatasız çözememektedir. Başka bir değişle XOR problemi için bir model öğrenimi gerçekleştirememektedir. (Öğrenme katsayısını veya epok sayısını değiştirseniz de sonuç değişmemektedir.)"
   ]
  }
 ],
 "metadata": {
  "kernelspec": {
   "display_name": "Python 3",
   "language": "python",
   "name": "python3"
  },
  "language_info": {
   "codemirror_mode": {
    "name": "ipython",
    "version": 3
   },
   "file_extension": ".py",
   "mimetype": "text/x-python",
   "name": "python",
   "nbconvert_exporter": "python",
   "pygments_lexer": "ipython3",
   "version": "3.6.5"
  }
 },
 "nbformat": 4,
 "nbformat_minor": 2
}
