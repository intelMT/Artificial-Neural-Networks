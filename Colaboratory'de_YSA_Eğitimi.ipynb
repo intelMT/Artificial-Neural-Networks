{
  "nbformat": 4,
  "nbformat_minor": 0,
  "metadata": {
    "colab": {
      "name": "Colaboratory'de YSA Eğitimi",
      "provenance": [],
      "collapsed_sections": []
    },
    "kernelspec": {
      "display_name": "Python 3",
      "name": "python3"
    }
  },
  "cells": [
    {
      "cell_type": "markdown",
      "metadata": {
        "id": "5fCEDCU_qrC0"
      },
      "source": [
        "<p><img alt=\"Colaboratory logo\" height=\"45px\" src=\"/img/colab_favicon.ico\" align=\"left\" hspace=\"10px\" vspace=\"0px\"></p>\n",
        "\n",
        "<h1>Colaboratory nedir?</h1>\n",
        "\n",
        "Colaboratory &#40;ya da kısaca \"Colab\"&#41;, tarayıcınızda Python'u yazmanızı ve çalıştırmanızı sağlar. Üstelik: \n",
        "- Hiç yapılandırma gerektirmez\n",
        "- GPU'lara ücretsiz erişim imkanı sunar\n",
        "- Kolay paylaşım imkanı sunar\n",
        "\n",
        "İster <strong>öğrenci</strong> ister <strong>veri bilimci</strong> ister <strong>yapay zeka araştırmacısı</strong> olun, Colab işinizi kolaylaştırabilir. Daha fazla bilgi edinmek için <a href=\"https://www.youtube.com/watch?v=inN8seMm7UI\">Colab'e Giriş</a> videosunu izleyebilir ya da aşağıdan hemen kullanmaya başlayabilirsiniz."
      ]
    },
    {
      "cell_type": "markdown",
      "metadata": {
        "id": "GJBs_flRovLc"
      },
      "source": [
        "## <strong>Başlarken</strong>\n",
        "\n",
        "Okuduğunuz doküman statik bir web sayfası değil, kod yazmanıza ve yürütmenize imkan veren <strong>Colab not defteri</strong> adında etkileşimli bir ortamdır.\n",
        "\n",
        "Örneğin, buradaki <strong>kod hücresinde</strong>, bir değeri hesaplayan, bir değişken içinde saklayan ve sonucu yazdıran kısa bir Python dizesi görebilirsiniz:"
      ]
    },
    {
      "cell_type": "code",
      "metadata": {
        "colab": {
          "base_uri": "https://localhost:8080/"
        },
        "id": "gJr_9dXGpJ05",
        "outputId": "a9e149f0-2416-4555-a22c-84b5f90cab73"
      },
      "source": [
        "seconds_in_a_day = 24 * 60 * 60\n",
        "seconds_in_a_day"
      ],
      "execution_count": 45,
      "outputs": [
        {
          "output_type": "execute_result",
          "data": {
            "text/plain": [
              "86400"
            ]
          },
          "metadata": {},
          "execution_count": 45
        }
      ]
    },
    {
      "cell_type": "markdown",
      "metadata": {
        "id": "2fhs6GZ4qFMx"
      },
      "source": [
        "Yukarıdaki hücrede kodu yürütmek için tıklayarak seçin, ardından ya kodun sol tarafındaki oynat düğmesine basın ya da \"Command/Ctrl+Enter\" klavye kısayolunu kullanın. Kodu düzenlemek için hücreyi tıklamanız yeterlidir. Sonrasında düzenlemeye başlayabilirsiniz.\n",
        "\n",
        "Bir hücrede tanımladığınız değişkenler daha sonra başka hücrelerde kullanılabilir:"
      ]
    },
    {
      "cell_type": "code",
      "metadata": {
        "colab": {
          "base_uri": "https://localhost:8080/"
        },
        "id": "-gE-Ez1qtyIA",
        "outputId": "ec577e63-c29c-4343-8bf2-eadb10541850"
      },
      "source": [
        "seconds_in_a_week = 7 * seconds_in_a_day\n",
        "seconds_in_a_week"
      ],
      "execution_count": null,
      "outputs": [
        {
          "output_type": "execute_result",
          "data": {
            "text/plain": [
              "604800"
            ]
          },
          "metadata": {},
          "execution_count": 2
        }
      ]
    },
    {
      "cell_type": "markdown",
      "metadata": {
        "id": "lSrWNr3MuFUS"
      },
      "source": [
        "Colab not defterleri; <strong>yürütülebilir kod</strong>, <strong>zengin metin</strong>, <strong>resimler</strong>, <strong>HTML</strong>, <strong>LaTeX</strong> ve diğer öğeleri tek bir dokümanda birleştirmenizi sağlar. Oluşturduğunuz Colab not defterleri Google Drive hesabınızda saklanır. Colab not defterlerinizi arkadaşlarınızla veya iş arkadaşlarınızla kolayca paylaşabilir, not defterlerinize yorum yapmalarını, hatta düzenlemelerini sağlayabilirsiniz. Daha fazla bilgiyi <a href=\"/notebooks/basic_features_overview.ipynb\">Colab'e Genel Bakış</a> bölümünde bulabilirsiniz. Yeni bir Colab not defteri oluşturmak için yukarıdaki Dosya menüsünü ya da <a href=\"http://colab.research.google.com#create=true\">yeni bir Colab not defteri oluşturma</a> bağlantısını kullanabilirsiniz.\n",
        "\n",
        "Colab not defterleri, Colab tarafından barındırılan Jupyter not defterleridir. Jupyter projesi hakkında daha fazla bilgiyi <a href=\"https://www.jupyter.org\">jupyter.org</a> adresinde bulabilirsiniz."
      ]
    },
    {
      "cell_type": "markdown",
      "metadata": {
        "id": "UdRyKR44dcNI"
      },
      "source": [
        "## Veri bilimi\n",
        "\n",
        "Colab ile popüler Python kitaplıklarının tüm avantajlarından yararlanarak veri analiz edip görselleştirebilirsiniz. Aşağıdaki kod hücresi rastgele veri oluşturmak için <strong>numpy</strong>'yi, bu veriyi görselleştirmek için de <strong>matplotlib</strong>'i kullanır. Kodu düzenlemek için hücreyi tıklamanız yeterlidir. Sonrasında düzenlemeye başlayabilirsiniz."
      ]
    },
    {
      "cell_type": "code",
      "metadata": {
        "colab": {
          "base_uri": "https://localhost:8080/",
          "height": 281
        },
        "id": "C4HZx7Gndbrh",
        "outputId": "cf0f89e8-a870-43b3-d623-686ffcfd2c16"
      },
      "source": [
        "import numpy as np\n",
        "from matplotlib import pyplot as plt\n",
        "\n",
        "ys = 200 + np.random.randn(100)\n",
        "x = [x for x in range(len(ys))]\n",
        "\n",
        "plt.plot(x, ys, '-')\n",
        "plt.fill_between(x, ys, 195, where=(ys > 195), facecolor='g', alpha=0.3)\n",
        "\n",
        "plt.title(\"Sample Visualization\")\n",
        "plt.show()"
      ],
      "execution_count": 47,
      "outputs": [
        {
          "output_type": "display_data",
          "data": {
            "image/png": "[encoded data removed]",
            "text/plain": [
              "<Figure size 432x288 with 1 Axes>"
            ]
          },
          "metadata": {
            "needs_background": "light"
          }
        }
      ]
    },
    {
      "cell_type": "markdown",
      "metadata": {
        "id": "4_kCnsPUqS6o"
      },
      "source": [
        "Kendi verilerinizi Google Drive hesabınızdan &#40;e-tablolar dahil&#41;, GitHub'dan ve diğer pek çok kaynaktan Colab not defterlerine aktarabilirsiniz. Veri içe aktarma ve Colab'in veri bilimi için nasıl kullanılabileceği hakkında daha fazla bilgi edinmek için <a href=\"#working-with-data\">Verilerle Çalışma</a> bölümünün altındaki bağlantılara bakabilirsiniz."
      ]
    },
    {
      "cell_type": "markdown",
      "metadata": {
        "id": "OwuxHmxllTwN"
      },
      "source": [
        "## Makine öğrenimi\n",
        "\n",
        "Colab ile bir resim veri kümesini içe aktarabilir, üzerinde bir resim sınıflandırıcıyı eğitebilir ve modeli değerlendirebilirsiniz. Hem de sadece <a href=\"https://colab.research.google.com/github/tensorflow/docs/blob/master/site/en/tutorials/quickstart/beginner.ipynb\">birkaç satır kodla</a>. Colab not defterleri Google'ın bulut sunucularında kod yürütür. Yani makinenizin gücünden bağımsız olarak, <a href=\"#using-accelerated-hardware\">GPU'lar ve TPU'lar</a> dahil Google donanımının gücünden yararlanabilirsiniz. Tek ihtiyacınız olan şey bir tarayıcıdır."
      ]
    },
    {
      "cell_type": "markdown",
      "metadata": {
        "id": "ufxBm1yRnruN"
      },
      "source": [
        "Colab, makine öğrenimi topluluğunda yaygın olarak şu uygulamalarla kullanılır:\n",
        "- TensorFlow'u kullanmaya başlama\n",
        "- Nöral ağ geliştirme ve eğitme\n",
        "- TPU'lar ile deneme yapma\n",
        "- Yapay zeka araştırmalarını yayma\n",
        "- Eğitici oluşturma\n",
        "\n",
        "Makine öğrenimi uygulamalarını açıklayarak tanıtan örnek Colab not defterlerini görmek için aşağıdaki <a href=\"#machine-learning-examples\">makine öğrenimi örneklerine</a> bakabilirsiniz."
      ]
    },
    {
      "cell_type": "markdown",
      "metadata": {
        "id": "-Rh3-Vt9Nev9"
      },
      "source": [
        "## Diğer Kaynaklar\n",
        "\n",
        "### Colab'de Not Defterleriyle Çalışma\n",
        "- [Colaboratory'ye Genel Bakış](/notebooks/basic_features_overview.ipynb)\n",
        "- [Markdown rehberi](/notebooks/markdown_guide.ipynb)\n",
        "- [Kitaplıkları içe aktarma ve bağımlıları yükleme](/notebooks/snippets/importing_libraries.ipynb)\n",
        "- [GitHub'da not defteri kaydetme ve yükleme](https://colab.research.google.com/github/googlecolab/colabtools/blob/master/notebooks/colab-github-demo.ipynb)\n",
        "- [Etkileşimli formlar](/notebooks/forms.ipynb)\n",
        "- [Etkileşimli widget'lar](/notebooks/widgets.ipynb)\n",
        "- <img src=\"/img/new.png\" height=\"20px\" align=\"left\" hspace=\"4px\" alt=\"New\"></img>\n",
        " [Colab'de TensorFlow 2](/notebooks/tensorflow_version.ipynb)\n",
        "\n",
        "<a name=\"working-with-data\"></a>\n",
        "### Verilerle Çalışma\n",
        "- [Veri yükleme: Drive, E-Tablolar ve Google Cloud Storage](/notebooks/io.ipynb) \n",
        "- [Grafikler: Veri görselleştirme](/notebooks/charts.ipynb)\n",
        "- [BigQuery'yi kullanmaya başlama](/notebooks/bigquery.ipynb)\n",
        "\n",
        "### Makine Öğrenimi Hızlandırılmış Kursu\n",
        "Google'ın online Makine Öğrenimi kursundan birkaç not defterini burada bulabilirsiniz. Daha fazlası için <a href=\"https://developers.google.com/machine-learning/crash-course/\">tam kurs web sitesine</a> bakın.\n",
        "- [Pandas DataFrame'e giriş](https://colab.research.google.com/github/google/eng-edu/blob/main/ml/cc/exercises/pandas_dataframe_ultraquick_tutorial.ipynb)\n",
        "- [Sentetik veriler kullanarak tf.keras ile doğrusal regresyon](https://colab.research.google.com/github/google/eng-edu/blob/main/ml/cc/exercises/linear_regression_with_synthetic_data.ipynb)\n",
        "\n",
        "\n",
        "<a name=\"using-accelerated-hardware\"></a>\n",
        "### Hızlandırılmış Donanım Kullanma\n",
        "- [GPU'lar ile TensorFlow](/notebooks/gpu.ipynb)\n",
        "- [TPU'lar ile TensorFlow](/notebooks/tpu.ipynb)"
      ]
    },
    {
      "cell_type": "markdown",
      "metadata": {
        "id": "P-H6Lw1vyNNd"
      },
      "source": [
        "<a name=\"machine-learning-examples\"></a>\n",
        "\n",
        "## Makine Öğrenimi Örnekleri\n",
        "\n",
        "Colaboratory'nin mümkün kıldığı etkileşimli makine öğrenimi analizlerinin uçtan uca örneklerini görmek için, <a href=\"https://tfhub.dev\">TensorFlow Hub</a>'daki modelleri kullanan bu eğiticilere bakın.\n",
        "\n",
        "Öne çıkan birkaç örnek:\n",
        "\n",
        "- <a href=\"https://tensorflow.org/hub/tutorials/tf2_image_retraining\">Bir Resim Sınıflandırıcıyı Yeniden Eğitme</a>: Çiçekleri ayırt etmek için önceden eğitilmiş bir resim sınıflandırıcının üzerine bir Keras modeli inşa eder.\n",
        "- <a href=\"https://tensorflow.org/hub/tutorials/tf2_text_classification\">Metin Sınıflandırma</a>: IMDB'deki film yorumlarını <em>olumlu</em> veya <em>olumsuz</em> olarak sınıflandırır.\n",
        "- <a href=\"https://tensorflow.org/hub/tutorials/tf2_arbitrary_image_stylization\">Stil Aktarımı</a>: Resimler arasında stil aktarımı yapmak için derin öğrenmeyi kullanır.\n",
        "- <a href=\"https://tensorflow.org/hub/tutorials/retrieval_with_tf_hub_universal_encoder_qa\">Çok Dilli Evrensel Cümle Kodlayıcı Soru-Cevap</a>: SQuAD veri kümesinden soruları cevaplamak için bir makine öğrenimi modeli kullanır.\n",
        "- <a href=\"https://tensorflow.org/hub/tutorials/tweening_conv3d\">Video İnterpolasyonu</a>: Bir videonun ilk ve son karesi arasında ne olduğunu tahmin eder.\n"
      ]
    },
    {
      "cell_type": "code",
      "metadata": {
        "id": "tsjCXRnaNGTH"
      },
      "source": [
        "from tensorflow.keras.datasets import mnist\n",
        "(train_images, train_labels), (test_images, test_labels) = mnist.load_data()"
      ],
      "execution_count": 48,
      "outputs": []
    },
    {
      "cell_type": "code",
      "metadata": {
        "id": "c4gvxFkMNNMw"
      },
      "source": [
        "# Tensorflow kütüphanesinde tanımlı keras modülünü kullanacağız\n",
        "from tensorflow import keras\n",
        "# keras.layers şeklinde uzun uzun yazmak istemiyorsak (yani layers şeklinde), \n",
        "# alt modülleri ekleyebiliriz\n",
        "from tensorflow.keras import layers\n",
        "# Burada kerasın ardarda katman tanımlama fonksiyonu ile modeli oluşturuyoruz.\n",
        "model = keras.Sequential([\n",
        "    layers.Dense(512, activation=\"relu\"),  # max(deger, 0)\n",
        "    layers.Dense(10, activation=\"softmax\")\n",
        "])"
      ],
      "execution_count": 58,
      "outputs": []
    },
    {
      "cell_type": "code",
      "metadata": {
        "id": "a3aDUutXNlKg",
        "colab": {
          "base_uri": "https://localhost:8080/"
        },
        "outputId": "81e98aa5-00d2-41dd-d357-a7a589a6482d"
      },
      "source": [
        "# Train - Eğitim/antrenman setinin boyutları\n",
        "train_images.shape"
      ],
      "execution_count": 59,
      "outputs": [
        {
          "output_type": "execute_result",
          "data": {
            "text/plain": [
              "(60000, 784)"
            ]
          },
          "metadata": {},
          "execution_count": 59
        }
      ]
    },
    {
      "cell_type": "code",
      "metadata": {
        "id": "1YH3J10aN2C2",
        "colab": {
          "base_uri": "https://localhost:8080/"
        },
        "outputId": "0a990c60-944e-4708-bf61-223d88b9ba97"
      },
      "source": [
        "# Görüldüğü üzere len() fonksiyonu ilk ekseni veriyor, yani örnek sayısını\n",
        "len(train_labels)"
      ],
      "execution_count": 60,
      "outputs": [
        {
          "output_type": "execute_result",
          "data": {
            "text/plain": [
              "60000"
            ]
          },
          "metadata": {},
          "execution_count": 60
        }
      ]
    },
    {
      "cell_type": "code",
      "metadata": {
        "id": "Fmy7Ff8_N_Xd",
        "colab": {
          "base_uri": "https://localhost:8080/"
        },
        "outputId": "77cd7de0-9504-4107-cf94-6a8577b68317"
      },
      "source": [
        "# Train labels : Eğitim setindeki örneklerin etiketleri/sınıfları\n",
        "train_labels"
      ],
      "execution_count": 61,
      "outputs": [
        {
          "output_type": "execute_result",
          "data": {
            "text/plain": [
              "array([5, 0, 4, ..., 5, 6, 8], dtype=uint8)"
            ]
          },
          "metadata": {},
          "execution_count": 61
        }
      ]
    },
    {
      "cell_type": "code",
      "metadata": {
        "id": "X_uwM3NxOAG4",
        "colab": {
          "base_uri": "https://localhost:8080/"
        },
        "outputId": "3708ab8e-9cb3-4d3d-ad6b-67c9c0d5b56b"
      },
      "source": [
        "test_images.shape"
      ],
      "execution_count": 62,
      "outputs": [
        {
          "output_type": "execute_result",
          "data": {
            "text/plain": [
              "(10000, 784)"
            ]
          },
          "metadata": {},
          "execution_count": 62
        }
      ]
    },
    {
      "cell_type": "code",
      "metadata": {
        "id": "b1g0caVQOVVf",
        "colab": {
          "base_uri": "https://localhost:8080/"
        },
        "outputId": "2399f3e6-af19-4756-a8a8-acced9b1dc49"
      },
      "source": [
        "len(test_images)"
      ],
      "execution_count": 63,
      "outputs": [
        {
          "output_type": "execute_result",
          "data": {
            "text/plain": [
              "10000"
            ]
          },
          "metadata": {},
          "execution_count": 63
        }
      ]
    },
    {
      "cell_type": "code",
      "metadata": {
        "id": "1Pyo--uPOa1g"
      },
      "source": [
        "# Bilgisayara modeli derletme (üç parametre verilmesi gerekli optimizasyon algoritması, kayıp denklemi, ve ölçüt)\n",
        "model.compile(optimizer=\"rmsprop\",\n",
        "              loss=\"sparse_categorical_crossentropy\",\n",
        "              metrics=[\"accuracy\"])"
      ],
      "execution_count": 64,
      "outputs": []
    },
    {
      "cell_type": "code",
      "metadata": {
        "id": "ug1MJPz2OtPK"
      },
      "source": [
        "# Verilen çizimleri 1 boyutlu sayı dizisine dönüştürerek onları gerçek (float32 ile) sayılarla ifade ediyoruz.\n",
        "train_images = train_images.reshape((60000, 28 * 28))\n",
        "train_images = train_images.astype(\"float32\") / 255\n",
        "test_images = test_images.reshape((10000, 28 * 28))\n",
        "test_images = test_images.astype(\"float32\") / 255"
      ],
      "execution_count": 65,
      "outputs": []
    },
    {
      "cell_type": "code",
      "metadata": {
        "id": "1lE_iXS2Oyvl",
        "colab": {
          "base_uri": "https://localhost:8080/"
        },
        "outputId": "10a0eb5f-712d-4c08-b07a-18af6db284f1"
      },
      "source": [
        "# Modeli eğitme\n",
        "model.fit(train_images, train_labels, epochs=5, batch_size=128)"
      ],
      "execution_count": 66,
      "outputs": [
        {
          "output_type": "stream",
          "name": "stdout",
          "text": [
            "Epoch 1/5\n",
            "469/469 [==============================] - 4s 8ms/step - loss: 1.4711 - accuracy: 0.6711\n",
            "Epoch 2/5\n",
            "469/469 [==============================] - 4s 8ms/step - loss: 0.5882 - accuracy: 0.8518\n",
            "Epoch 3/5\n",
            "469/469 [==============================] - 4s 8ms/step - loss: 0.4115 - accuracy: 0.8889\n",
            "Epoch 4/5\n",
            "469/469 [==============================] - 4s 8ms/step - loss: 0.3525 - accuracy: 0.9003\n",
            "Epoch 5/5\n",
            "469/469 [==============================] - 4s 8ms/step - loss: 0.3221 - accuracy: 0.9079\n"
          ]
        },
        {
          "output_type": "execute_result",
          "data": {
            "text/plain": [
              "<keras.callbacks.History at 0x7f69f9d07450>"
            ]
          },
          "metadata": {},
          "execution_count": 66
        }
      ]
    },
    {
      "cell_type": "code",
      "metadata": {
        "id": "H1W0ctARP9zx"
      },
      "source": [
        "# Array slicing : Dizi bolutleme [a:b]  a'dan b'ye kadar (a dahil, ama b dahil değil.)\n",
        "test_digits = test_images[0:5]"
      ],
      "execution_count": 68,
      "outputs": []
    },
    {
      "cell_type": "code",
      "metadata": {
        "id": "JHoH50zvQSi3"
      },
      "source": [
        "predictions = model.predict(test_digits)"
      ],
      "execution_count": 69,
      "outputs": []
    },
    {
      "cell_type": "code",
      "metadata": {
        "colab": {
          "base_uri": "https://localhost:8080/"
        },
        "id": "n79UtrnaQWBX",
        "outputId": "385851ad-1e06-42f4-8246-7ca15e7fa497"
      },
      "source": [
        "predictions[0]"
      ],
      "execution_count": 70,
      "outputs": [
        {
          "output_type": "execute_result",
          "data": {
            "text/plain": [
              "array([3.6644469e-05, 4.3685507e-08, 1.5872676e-05, 4.0117663e-04,\n",
              "       8.8302420e-07, 1.8573133e-05, 4.6914375e-09, 9.9795508e-01,\n",
              "       5.3094909e-06, 1.5664562e-03], dtype=float32)"
            ]
          },
          "metadata": {},
          "execution_count": 70
        }
      ]
    },
    {
      "cell_type": "code",
      "metadata": {
        "colab": {
          "base_uri": "https://localhost:8080/"
        },
        "id": "YSx7XunWQbJo",
        "outputId": "64d88ec8-aedb-4a50-cff2-3f4477f3ace7"
      },
      "source": [
        "# Tahmin değerleri her rakam için bir sayıdan oluşur, en büyük değerin indeksi\n",
        "# bize hangi sınıfa ait olduğunu ifade eder.\n",
        "predictions[0].argmax()"
      ],
      "execution_count": 71,
      "outputs": [
        {
          "output_type": "execute_result",
          "data": {
            "text/plain": [
              "7"
            ]
          },
          "metadata": {},
          "execution_count": 71
        }
      ]
    },
    {
      "cell_type": "code",
      "metadata": {
        "colab": {
          "base_uri": "https://localhost:8080/",
          "height": 283
        },
        "id": "9sHDHgo1Qijm",
        "outputId": "9b55917c-ccb8-4b1b-8fdc-7b5c382b772f"
      },
      "source": [
        "# Tahmin ettiğimiz veriye yani çizime bakalım\n",
        "plt.imshow(test_digits[0].reshape(28,28), cmap= plt.cm.binary)"
      ],
      "execution_count": 72,
      "outputs": [
        {
          "output_type": "execute_result",
          "data": {
            "text/plain": [
              "<matplotlib.image.AxesImage at 0x7f69f9b88c50>"
            ]
          },
          "metadata": {},
          "execution_count": 72
        },
        {
          "output_type": "display_data",
          "data": {
            "image/png": "[encoded data removed]",
            "text/plain": [
              "<Figure size 432x288 with 1 Axes>"
            ]
          },
          "metadata": {
            "needs_background": "light"
          }
        }
      ]
    },
    {
      "cell_type": "code",
      "metadata": {
        "colab": {
          "base_uri": "https://localhost:8080/"
        },
        "id": "W6P72O2UQv8L",
        "outputId": "2f8d7817-9982-45f5-c33b-b6f68125382b"
      },
      "source": [
        "# Sınıflandırmada genellikle 1.0'e en yakın tahmin doğru tahmindir\n",
        "predictions[0][7]"
      ],
      "execution_count": 73,
      "outputs": [
        {
          "output_type": "execute_result",
          "data": {
            "text/plain": [
              "0.9979551"
            ]
          },
          "metadata": {},
          "execution_count": 73
        }
      ]
    },
    {
      "cell_type": "code",
      "metadata": {
        "colab": {
          "base_uri": "https://localhost:8080/"
        },
        "id": "s6HI-dFPRLsg",
        "outputId": "4fc1e098-7e9f-4899-fe58-903485aabe73"
      },
      "source": [
        "# Doğru tahmin mi? Kontrol etme\n",
        "test_labels[0]"
      ],
      "execution_count": 74,
      "outputs": [
        {
          "output_type": "execute_result",
          "data": {
            "text/plain": [
              "7"
            ]
          },
          "metadata": {},
          "execution_count": 74
        }
      ]
    },
    {
      "cell_type": "code",
      "metadata": {
        "colab": {
          "base_uri": "https://localhost:8080/"
        },
        "id": "sf2CtCuCRaH7",
        "outputId": "403403e6-790d-4fad-c118-4432a10043c8"
      },
      "source": [
        "# Modeli görülmemiş (test) örnekler üzerinde çalıştırarak kayıp ve doğruluk değerlerini bulma\n",
        "test_loss, test_acc = model.evaluate(test_images, test_labels)"
      ],
      "execution_count": 75,
      "outputs": [
        {
          "output_type": "stream",
          "name": "stdout",
          "text": [
            "313/313 [==============================] - 1s 2ms/step - loss: 0.3028 - accuracy: 0.9120\n"
          ]
        }
      ]
    },
    {
      "cell_type": "code",
      "metadata": {
        "colab": {
          "base_uri": "https://localhost:8080/"
        },
        "id": "75qzTtGsRpRb",
        "outputId": "28695e37-f680-493e-97dd-0422951d2048"
      },
      "source": [
        "# Python f-string kullanımı ile Test doğruluk oranı yüzdesinin gösterimi\n",
        "print(f\"test_acc %: {test_acc*100}\")"
      ],
      "execution_count": 76,
      "outputs": [
        {
          "output_type": "stream",
          "name": "stdout",
          "text": [
            "test_acc %: 91.20000004768372\n"
          ]
        }
      ]
    },
    {
      "cell_type": "code",
      "metadata": {
        "colab": {
          "base_uri": "https://localhost:8080/"
        },
        "id": "i0SwmrOmRyCx",
        "outputId": "e70e5491-cdf0-4866-80ae-321b80dc4d50"
      },
      "source": [
        "# ndim : number of dimensions - eksen/boyut sayısı\n",
        "a = np.array(12)\n",
        "a.ndim"
      ],
      "execution_count": 77,
      "outputs": [
        {
          "output_type": "execute_result",
          "data": {
            "text/plain": [
              "0"
            ]
          },
          "metadata": {},
          "execution_count": 77
        }
      ]
    },
    {
      "cell_type": "code",
      "metadata": {
        "colab": {
          "base_uri": "https://localhost:8080/"
        },
        "id": "Ahfz6MooTdV9",
        "outputId": "2f85fd90-3958-42be-c61b-929f6da6b56d"
      },
      "source": [
        "x = np.array([12, 3, 6, 14, 7])\n",
        "x"
      ],
      "execution_count": 78,
      "outputs": [
        {
          "output_type": "execute_result",
          "data": {
            "text/plain": [
              "array([12,  3,  6, 14,  7])"
            ]
          },
          "metadata": {},
          "execution_count": 78
        }
      ]
    },
    {
      "cell_type": "code",
      "metadata": {
        "colab": {
          "base_uri": "https://localhost:8080/"
        },
        "id": "XItIHI6dTilB",
        "outputId": "cba2bf4c-b17e-42d8-c04c-a40613f5b296"
      },
      "source": [
        "x.ndim"
      ],
      "execution_count": 79,
      "outputs": [
        {
          "output_type": "execute_result",
          "data": {
            "text/plain": [
              "1"
            ]
          },
          "metadata": {},
          "execution_count": 79
        }
      ]
    },
    {
      "cell_type": "code",
      "metadata": {
        "id": "Jty3ZZJXTlRA"
      },
      "source": [
        "y = np.array([[5, 71, 4, 33, 4],\n",
        "              [3, 74, 3, 45, 1],\n",
        "              [2, 86, 5, 32, 7]])"
      ],
      "execution_count": 80,
      "outputs": []
    },
    {
      "cell_type": "code",
      "metadata": {
        "colab": {
          "base_uri": "https://localhost:8080/"
        },
        "id": "wbrd7WqbT4xP",
        "outputId": "f5c84b44-bb5e-4f85-9397-c28bb97a6951"
      },
      "source": [
        "y.ndim"
      ],
      "execution_count": 81,
      "outputs": [
        {
          "output_type": "execute_result",
          "data": {
            "text/plain": [
              "2"
            ]
          },
          "metadata": {},
          "execution_count": 81
        }
      ]
    },
    {
      "cell_type": "code",
      "metadata": {
        "id": "MtNuItmxT6bJ"
      },
      "source": [
        "z =np.array([[[5, 71, 4, 33, 4],\n",
        "              [3, 74, 3, 45, 1],\n",
        "              [2, 86, 5, 32, 7]],\n",
        "              [[5, 71, 4, 33, 4],\n",
        "              [3, 74, 3, 45, 1],\n",
        "              [2, 86, 5, 32, 7]],\n",
        "              [[5, 71, 4, 33, 4],\n",
        "              [3, 74, 3, 45, 1],\n",
        "              [2, 86, 5, 32, 7]]])"
      ],
      "execution_count": 82,
      "outputs": []
    },
    {
      "cell_type": "code",
      "metadata": {
        "colab": {
          "base_uri": "https://localhost:8080/"
        },
        "id": "zc-hS7CPULGH",
        "outputId": "cebd02d0-8717-4481-b23f-4dfbb4ffef7f"
      },
      "source": [
        "z.ndim"
      ],
      "execution_count": 83,
      "outputs": [
        {
          "output_type": "execute_result",
          "data": {
            "text/plain": [
              "3"
            ]
          },
          "metadata": {},
          "execution_count": 83
        }
      ]
    },
    {
      "cell_type": "code",
      "metadata": {
        "colab": {
          "base_uri": "https://localhost:8080/"
        },
        "id": "0Rykg1-sUNbB",
        "outputId": "32db255e-1151-435f-c16e-28ce3c6851b6"
      },
      "source": [
        "# dtype : data type - Veri türü\n",
        "train_images.dtype"
      ],
      "execution_count": 84,
      "outputs": [
        {
          "output_type": "execute_result",
          "data": {
            "text/plain": [
              "dtype('float32')"
            ]
          },
          "metadata": {},
          "execution_count": 84
        }
      ]
    },
    {
      "cell_type": "markdown",
      "metadata": {
        "id": "HDgzAcTodRdR"
      },
      "source": [
        "Verileri nereden bulabilirim?\n",
        "* Bu alanlarda çalışan üniversiteler vb. kurumlar (Ör. https://archive.ics.uci.edu/ml/datasets.php)\n",
        "* Veri bilimi yarışması siteleri (Ör. https://www.kaggle.com/datasets)\n",
        "* Ulusal/Uluslarası kuruluş siteleri (World Bank, OECD, TEİAS vb.)\n"
      ]
    },
    {
      "cell_type": "markdown",
      "metadata": {
        "id": "mCZM2_mYhzRq"
      },
      "source": [
        ""
      ]
    }
  ]
}