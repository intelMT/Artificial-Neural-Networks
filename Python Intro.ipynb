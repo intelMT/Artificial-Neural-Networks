{
 "cells": [
  {
   "cell_type": "markdown",
   "metadata": {},
   "source": [
    "### Neden Python?\n",
    "* Yapay Zeka uygulamaları geliştirme ve uygulama ekosisteminde yaygın olarak kullanılan açık kaynak bir dil olduğu için.\n",
    "* İnsan diline yakın syntax yani söz dizimine sahip bir dil olduğu için."
   ]
  },
  {
   "cell_type": "code",
   "execution_count": 1,
   "metadata": {},
   "outputs": [
    {
     "data": {
      "text/plain": [
       "'\\nKaynaklar: \\ncrash_course_in_python.py            at    https://github.com/joelgrus/data-science-from-scratch/tree/master/scratch\\n00_Mathematical_Refresher.ipynb      at    https://github.com/qosf/qml-mooc  \\n'"
      ]
     },
     "execution_count": 1,
     "metadata": {},
     "output_type": "execute_result"
    }
   ],
   "source": [
    "\"\"\"\n",
    "Bu Python'a giriş amaçlı bir kod.\n",
    "\"\"\"\n",
    "# Pound/Kare işareti bir yorumun başlangıcını belirtir. Python'un kendisi\n",
    "# yorumları yok sayar, ancak kodu okuyan herkes için faydalıdır. (Ders projesi için ZORUNLU)\n",
    "\n",
    "\"\"\"\n",
    "Kaynaklar: \n",
    "crash_course_in_python.py            at    https://github.com/joelgrus/data-science-from-scratch/tree/master/scratch\n",
    "00_Mathematical_Refresher.ipynb      at    https://github.com/qosf/qml-mooc  \n",
    "\"\"\""
   ]
  },
  {
   "cell_type": "code",
   "execution_count": 2,
   "metadata": {},
   "outputs": [
    {
     "data": {
      "text/plain": [
       "7"
      ]
     },
     "execution_count": 2,
     "metadata": {},
     "output_type": "execute_result"
    }
   ],
   "source": [
    "3 + 4"
   ]
  },
  {
   "cell_type": "code",
   "execution_count": 4,
   "metadata": {},
   "outputs": [
    {
     "data": {
      "text/plain": [
       "100"
      ]
     },
     "execution_count": 4,
     "metadata": {},
     "output_type": "execute_result"
    }
   ],
   "source": [
    "10**2"
   ]
  },
  {
   "cell_type": "code",
   "execution_count": null,
   "metadata": {},
   "outputs": [],
   "source": [
    "# PEMDAS Kuralı geçerli: <Öncelik>  (Parantez) --> (x^y : x**y) --> (* ve /) --> (+ ve -) "
   ]
  },
  {
   "cell_type": "code",
   "execution_count": 5,
   "metadata": {},
   "outputs": [
    {
     "data": {
      "text/plain": [
       "37.0"
      ]
     },
     "execution_count": 5,
     "metadata": {},
     "output_type": "execute_result"
    }
   ],
   "source": [
    "((3 - 1) * 2**5 + 10 ) / 2"
   ]
  },
  {
   "cell_type": "code",
   "execution_count": 6,
   "metadata": {},
   "outputs": [
    {
     "name": "stdout",
     "output_type": "stream",
     "text": [
      "1000.0\n"
     ]
    }
   ],
   "source": [
    "# Değişken (variable) tanımlama basittir (veri türünü otomatik seçer)\n",
    "\n",
    "x = 1e10\n",
    "\n",
    "y = x / 10**7\n",
    "\n",
    "print(y)"
   ]
  },
  {
   "cell_type": "code",
   "execution_count": 7,
   "metadata": {},
   "outputs": [
    {
     "name": "stdout",
     "output_type": "stream",
     "text": [
      "1000\n",
      "10\n",
      "10\n"
     ]
    }
   ],
   "source": [
    "# Tam sayı türüne dönüştürmede int() kullanılır ve tabana yuvarlama yapar\n",
    "print(int(y))\n",
    "print(int(10.3))\n",
    "print(int(10.9))"
   ]
  },
  {
   "cell_type": "code",
   "execution_count": 9,
   "metadata": {},
   "outputs": [],
   "source": [
    "# Genelde Python'da grafik çizimler için kullanılan matplotlib kütüphanesi (Genelde kodun başına eklenir)\n",
    "import matplotlib.pyplot as plt\n",
    "%matplotlib inline\n",
    "\n",
    "# En sık kullanılan numerik işlemler optimizasyon kütüphanesi \n",
    "import numpy as np  \n",
    "\n",
    "# Python'da UTF encoding kullanabilme imkanı (ASCII kullanan dillerde bunun imkanı yok)\n",
    "𝝅 = np.pi\n",
    "# Python'da sabit değer atama imkanı yok. Ya nesne yoluyla ya da dış kütüphaneler yardımıyla yapılabilir."
   ]
  },
  {
   "cell_type": "code",
   "execution_count": 8,
   "metadata": {},
   "outputs": [
    {
     "data": {
      "text/plain": [
       "(-1+0j)"
      ]
     },
     "execution_count": 8,
     "metadata": {},
     "output_type": "execute_result"
    }
   ],
   "source": [
    "1j**2"
   ]
  },
  {
   "cell_type": "code",
   "execution_count": 11,
   "metadata": {},
   "outputs": [
    {
     "name": "stdout",
     "output_type": "stream",
     "text": [
      "The type of x: <class 'complex'>\n",
      "The real part of x: 2.3\n",
      "The Imaginary part of x: -5.1\n"
     ]
    }
   ],
   "source": [
    "x = 2.3 - 5.1j\n",
    "print(\"The type of x:\", type(x))\n",
    "print(\"The real part of x:\", x.real)\n",
    "print(\"The Imaginary part of x:\", x.imag)"
   ]
  },
  {
   "cell_type": "code",
   "execution_count": 12,
   "metadata": {},
   "outputs": [
    {
     "data": {
      "image/png": "[encoded data removed]",
      "text/plain": [
       "<Figure size 432x288 with 1 Axes>"
      ]
     },
     "metadata": {
      "needs_background": "light"
     },
     "output_type": "display_data"
    }
   ],
   "source": [
    "def plot_complex(a):\n",
    "    for x in range(len(a)):\n",
    "        plt.plot([0,a[x].real],[0,a[x].imag], 'r-o')\n",
    "    plt.axhline(y=0, color='k')\n",
    "    plt.axvline(x=0, color='k')\n",
    "    plt.ylabel('Imaginary')\n",
    "    plt.xlabel('Real')\n",
    "    limit = np.max(np.ceil(np.absolute(a)))\n",
    "    plt.xlim((-limit,limit))\n",
    "    plt.ylim((-limit,limit))    \n",
    "    plt.show()\n",
    "\n",
    "plot_complex([x])"
   ]
  },
  {
   "cell_type": "code",
   "execution_count": 13,
   "metadata": {},
   "outputs": [
    {
     "data": {
      "text/plain": [
       "5.594640292279745"
      ]
     },
     "execution_count": 13,
     "metadata": {},
     "output_type": "execute_result"
    }
   ],
   "source": [
    "abs(x)"
   ]
  },
  {
   "cell_type": "code",
   "execution_count": 14,
   "metadata": {},
   "outputs": [
    {
     "data": {
      "text/plain": [
       "True"
      ]
     },
     "execution_count": 14,
     "metadata": {},
     "output_type": "execute_result"
    }
   ],
   "source": [
    "r = abs(x)\n",
    "φ = np.arctan2(x.imag, x.real)\n",
    "z = r*np.exp(1j*φ)\n",
    "z == x"
   ]
  },
  {
   "cell_type": "code",
   "execution_count": 15,
   "metadata": {},
   "outputs": [
    {
     "data": {
      "text/plain": [
       "-1.1471274049173805"
      ]
     },
     "execution_count": 15,
     "metadata": {},
     "output_type": "execute_result"
    }
   ],
   "source": [
    "φ"
   ]
  },
  {
   "cell_type": "code",
   "execution_count": 16,
   "metadata": {},
   "outputs": [
    {
     "name": "stdout",
     "output_type": "stream",
     "text": [
      "(2.3+5.1j)\n"
     ]
    },
    {
     "data": {
      "image/png": "[encoded data removed]",
      "text/plain": [
       "<Figure size 432x288 with 1 Axes>"
      ]
     },
     "metadata": {
      "needs_background": "light"
     },
     "output_type": "display_data"
    }
   ],
   "source": [
    "print(x.conjugate())\n",
    "plot_complex([x.conjugate()])"
   ]
  },
  {
   "cell_type": "code",
   "execution_count": 17,
   "metadata": {},
   "outputs": [
    {
     "name": "stdout",
     "output_type": "stream",
     "text": [
      "<class 'numpy.ndarray'>\n"
     ]
    }
   ],
   "source": [
    "a = np.array([[1+2j], [2+2j]])\n",
    "print(type(a))"
   ]
  },
  {
   "cell_type": "code",
   "execution_count": 18,
   "metadata": {},
   "outputs": [
    {
     "data": {
      "text/plain": [
       "array([[1.+2.j],\n",
       "       [2.+2.j]])"
      ]
     },
     "execution_count": 18,
     "metadata": {},
     "output_type": "execute_result"
    }
   ],
   "source": [
    "a"
   ]
  },
  {
   "cell_type": "code",
   "execution_count": 19,
   "metadata": {},
   "outputs": [
    {
     "data": {
      "text/plain": [
       "array([[1.-2.j, 2.-2.j]])"
      ]
     },
     "execution_count": 19,
     "metadata": {},
     "output_type": "execute_result"
    }
   ],
   "source": [
    "a.T.conj()"
   ]
  },
  {
   "cell_type": "code",
   "execution_count": 20,
   "metadata": {},
   "outputs": [
    {
     "data": {
      "text/plain": [
       "array([[0.1+0.j],\n",
       "       [0. +2.j]])"
      ]
     },
     "execution_count": 20,
     "metadata": {},
     "output_type": "execute_result"
    }
   ],
   "source": [
    "b = np.array([[0.1], [2j]])\n",
    "b"
   ]
  },
  {
   "cell_type": "code",
   "execution_count": 21,
   "metadata": {},
   "outputs": [
    {
     "data": {
      "text/plain": [
       "array([[0.1-0.j, 0. -2.j]])"
      ]
     },
     "execution_count": 21,
     "metadata": {},
     "output_type": "execute_result"
    }
   ],
   "source": [
    "b.T.conj()"
   ]
  },
  {
   "cell_type": "code",
   "execution_count": 22,
   "metadata": {},
   "outputs": [
    {
     "data": {
      "text/plain": [
       "array([[4.1-3.8j]])"
      ]
     },
     "execution_count": 22,
     "metadata": {},
     "output_type": "execute_result"
    }
   ],
   "source": [
    "b.T.conj() @ a"
   ]
  },
  {
   "cell_type": "code",
   "execution_count": 23,
   "metadata": {},
   "outputs": [
    {
     "data": {
      "text/plain": [
       "array([[0]])"
      ]
     },
     "execution_count": 23,
     "metadata": {},
     "output_type": "execute_result"
    }
   ],
   "source": [
    "c = np.array([[1], [0]])\n",
    "d = np.array([[0], [1]])\n",
    "c.T.conj() @ d"
   ]
  },
  {
   "cell_type": "code",
   "execution_count": 24,
   "metadata": {},
   "outputs": [
    {
     "data": {
      "text/plain": [
       "array([[4.1-3.8j]])"
      ]
     },
     "execution_count": 24,
     "metadata": {},
     "output_type": "execute_result"
    }
   ],
   "source": [
    "b.T.conj().dot(a)"
   ]
  },
  {
   "cell_type": "markdown",
   "metadata": {},
   "source": [
    "## Built-in Öztanımlı Fonksiyonlar ve Veri Türleri"
   ]
  },
  {
   "cell_type": "code",
   "execution_count": 32,
   "metadata": {},
   "outputs": [
    {
     "name": "stdout",
     "output_type": "stream",
     "text": [
      "['Porsche', 'Tesla', 'VW', 'Audi', 'Renault', 'Honda', 'Toyota', 'Hyundai', 'Honda']\n",
      "['Porsche', 'Tesla', 'VW', 'Audi', 'Renault', 'Honda', 'Toyota', 'Hyundai', 'Honda', 'TOGG']\n",
      "['Porsche', 'Tesla', 'VW', 'Audi', 'Renault', 'Honda', 'Toyota', 'Hyundai', 'Honda']\n"
     ]
    }
   ],
   "source": [
    "# Liste veya dizi: list() ile veya [ ] ile \n",
    "\n",
    "araba_markaları = ['Porsche', 'Tesla', 'VW', 'Audi', 'Renault', 'Honda', 'Toyota', 'Hyundai', 'Honda']\n",
    "\n",
    "print(araba_markaları)\n",
    "\n",
    "araba_markaları.append('TOGG')\n",
    "\n",
    "print(araba_markaları)\n",
    "\n",
    "araba_markaları.pop()\n",
    "\n",
    "print(araba_markaları)"
   ]
  },
  {
   "cell_type": "code",
   "execution_count": 26,
   "metadata": {},
   "outputs": [
    {
     "name": "stdout",
     "output_type": "stream",
     "text": [
      "{'Elma'}\n",
      "{'Elma', 'Armut'}\n"
     ]
    }
   ],
   "source": [
    "# Küme, set() ile veya {} ile\n",
    "# Her kümede bir eleman sadece 1 kez bulunur, sıralama önemli değil\n",
    "\n",
    "Meyveler = set() # veya = {}\n",
    "\n",
    "Meyveler.add('Elma')\n",
    "print(Meyveler)\n",
    "Meyveler.add('Armut')\n",
    "print(Meyveler)"
   ]
  },
  {
   "cell_type": "code",
   "execution_count": 28,
   "metadata": {},
   "outputs": [
    {
     "data": {
      "text/plain": [
       "(10, 9)"
      ]
     },
     "execution_count": 28,
     "metadata": {},
     "output_type": "execute_result"
    }
   ],
   "source": [
    "len(araba_markaları), len(set(araba_markaları))"
   ]
  },
  {
   "cell_type": "code",
   "execution_count": 29,
   "metadata": {},
   "outputs": [
    {
     "name": "stdout",
     "output_type": "stream",
     "text": [
      "('Elma', 'Armut', 'Elma', 'Portakal')\n"
     ]
    }
   ],
   "source": [
    "# Tuple, tuple() ile veya () ile\n",
    "# Değiştirilemez liste gibi dusunebiliriz\n",
    "\n",
    "Meyveler = tuple([\"Elma\", \"Armut\", \"Elma\", 'Portakal'])\n",
    "\n",
    "Meyveler\n",
    "print(Meyveler)"
   ]
  },
  {
   "cell_type": "code",
   "execution_count": 31,
   "metadata": {},
   "outputs": [
    {
     "data": {
      "text/plain": [
       "('Elma', 'Armut', 'Elma', 'Portakal')"
      ]
     },
     "execution_count": 31,
     "metadata": {},
     "output_type": "execute_result"
    }
   ],
   "source": [
    "Meyveler.count('Elma'), Meyveler.count('Armut')"
   ]
  },
  {
   "cell_type": "code",
   "execution_count": 33,
   "metadata": {},
   "outputs": [
    {
     "data": {
      "text/plain": [
       "3"
      ]
     },
     "execution_count": 33,
     "metadata": {},
     "output_type": "execute_result"
    }
   ],
   "source": [
    "# Python index 0'dan baslar > MATLAB 1'den basliyor.\n",
    "Meyveler.index('Portakal')"
   ]
  },
  {
   "cell_type": "code",
   "execution_count": 36,
   "metadata": {},
   "outputs": [
    {
     "name": "stdout",
     "output_type": "stream",
     "text": [
      "Kiwi\n",
      "Portakal\n"
     ]
    }
   ],
   "source": [
    "# Sozluk, dict() ile veya {k1:A, k2:B, ...} ile\n",
    "# Anahtar:Deger listeleri gibi dusunebiliriz. Hash table denilen veri turu gibi\n",
    "\n",
    "Meyveler = { 1: \"Elma\" , 0:\"Armut\" , 'red':\"Elma\" , 'oranj':'Portakal', 4.5:'Kiwi'}\n",
    "\n",
    "Meyveler\n",
    "print(Meyveler[4.5])\n",
    "print(Meyveler.get('oranj'))"
   ]
  },
  {
   "cell_type": "code",
   "execution_count": 37,
   "metadata": {},
   "outputs": [
    {
     "name": "stdout",
     "output_type": "stream",
     "text": [
      "1\n",
      "1\n",
      "3\n",
      "5\n",
      "6\n",
      "2\n",
      "1\n",
      "3\n",
      "5\n",
      "7\n",
      "3\n",
      "1\n",
      "3\n",
      "5\n",
      "8\n",
      "dongu bitti\n"
     ]
    }
   ],
   "source": [
    "# Python'da donguler veya scope yani bağlam için tab veya bosluk kullanılır {} kullanılmaz.\n",
    "# : dan sonra entera basildiginda tab otomatik olarak açılır.\n",
    "\n",
    "for i in [1, 2, 3]:\n",
    "    print(i)                    # first line in \"for i\" block\n",
    "    for j in [1, 3, 5]:\n",
    "        print(j)                # first line in \"for j\" block         # last line in \"for j\" block\n",
    "    print(i+j)                    # last line in \"for i\" block\n",
    "print(\"dongu bitti\")"
   ]
  },
  {
   "cell_type": "code",
   "execution_count": 38,
   "metadata": {},
   "outputs": [],
   "source": [
    "uzun_hesaplamalar = (1 + 2 + 3 + 4 + 5 + 6 + 7 + 8 + 9 + 10 + 11 + 12 +\n",
    "                     13 + 14 + 15 + 16 + 17 + 18 + 19 + 20)\n",
    "\n",
    "listelerin_listesi = [[1, 2, 3], [4, 5, 6], [7, 8, 9]]\n",
    "\n",
    "daha_anlasilir_listelerin_listesi = [[1, 2, 3],\n",
    "                                     [4, 5, 6],\n",
    "                                     [7, 8, 9]]\n",
    "\n",
    "two_plus_three = 2 + \\\n",
    "                 3"
   ]
  },
  {
   "cell_type": "code",
   "execution_count": 39,
   "metadata": {},
   "outputs": [
    {
     "name": "stdout",
     "output_type": "stream",
     "text": [
      "1\n",
      "2\n",
      "3\n",
      "4\n",
      "5\n"
     ]
    }
   ],
   "source": [
    "for i in [1, 2, 3, 4, 5]:\n",
    "\n",
    "    # bosluklar onemli degil, tab seviyesi onemli\n",
    "    print(i)"
   ]
  },
  {
   "cell_type": "code",
   "execution_count": 40,
   "metadata": {},
   "outputs": [],
   "source": [
    "# Kullanici tanimli Fonksiyonlarin tanimlanmasi \n",
    "\"\"\"def fonksiyon_adi(argumanlar):\n",
    "        ...islemler...\n",
    "        return ...\"\"\"\n",
    "\n",
    "def double(x : int):\n",
    "    \"\"\"\n",
    "    Burada fonksiyon tanimi yapilir. Fonksiyon parametreleri ve fonksiyonun amaci, ne yaptigi\n",
    "    aciklanir. Ornegin bu fonksiyon girdi x degerinin 2 katini cikti olarak verir\n",
    "    \"\"\"\n",
    "    return x * 2"
   ]
  },
  {
   "cell_type": "code",
   "execution_count": 41,
   "metadata": {},
   "outputs": [
    {
     "data": {
      "text/plain": [
       "2"
      ]
     },
     "execution_count": 41,
     "metadata": {},
     "output_type": "execute_result"
    }
   ],
   "source": [
    "# Pythonda fonksiyonlar diger bir fonksiyona arguman olarak verilebilir.\n",
    "\n",
    "def apply_to_one(f):\n",
    "    \"\"\"f fonksiyonunu 1 degeri ile cagirir\"\"\"\n",
    "    return f(1)\n",
    "\n",
    "apply_to_one(double)"
   ]
  },
  {
   "cell_type": "code",
   "execution_count": 42,
   "metadata": {},
   "outputs": [],
   "source": [
    "# Adsiz fonksiyonlar\n",
    "\n",
    "y = apply_to_one(lambda x: x + 4) \n",
    "\n",
    "# Test etme\n",
    "assert y == 5"
   ]
  },
  {
   "cell_type": "code",
   "execution_count": 43,
   "metadata": {},
   "outputs": [],
   "source": [
    "diger_bir_double = lambda x: 2 * x       # Adsiz fonksiyonlari bu sekilde kullanmayin\n",
    "\n",
    "def diger_bir_double(x):\n",
    "    \"\"\"Bu sekilde tanimlayiniz\"\"\"\n",
    "    return 2 * x"
   ]
  },
  {
   "cell_type": "code",
   "execution_count": 45,
   "metadata": {},
   "outputs": [
    {
     "name": "stdout",
     "output_type": "stream",
     "text": [
      "Ali Soyad-YOK\n"
     ]
    },
    {
     "data": {
      "text/plain": [
       "'Ad-YOK VELİ'"
      ]
     },
     "execution_count": 45,
     "metadata": {},
     "output_type": "execute_result"
    }
   ],
   "source": [
    "def tam_ad(ad = \"Ad-YOK\", soyad = \"Soyad-YOK\"):\n",
    "    return ad + \" \" + soyad\n",
    "\n",
    "tam_ad(\"Ali\", \"VELİ\")     # \"Ali VELİ\"\n",
    "print(tam_ad(\"Ali\"))      # \"Ali Soyad-YOK\"\n",
    "tam_ad(soyad=\"VELİ\")      # \"Ad-YOK VELİ\"  "
   ]
  },
  {
   "cell_type": "markdown",
   "metadata": {},
   "source": [
    "#### Daha ileri seviye örnekler için\n",
    "\n",
    "https://github.com/norvig/pytudes"
   ]
  },
  {
   "cell_type": "code",
   "execution_count": null,
   "metadata": {},
   "outputs": [],
   "source": []
  }
 ],
 "metadata": {
  "kernelspec": {
   "display_name": "Python 3",
   "language": "python",
   "name": "python3"
  },
  "language_info": {
   "codemirror_mode": {
    "name": "ipython",
    "version": 3
   },
   "file_extension": ".py",
   "mimetype": "text/x-python",
   "name": "python",
   "nbconvert_exporter": "python",
   "pygments_lexer": "ipython3",
   "version": "3.7.6"
  }
 },
 "nbformat": 4,
 "nbformat_minor": 4
}
